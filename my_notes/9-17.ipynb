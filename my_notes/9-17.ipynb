{
 "cells": [
  {
   "cell_type": "code",
   "execution_count": 23,
   "metadata": {
    "collapsed": false
   },
   "outputs": [],
   "source": [
    "#Generalized Tool\n",
    "def pay_check(hours, wages):\n",
    "    net_pay = hours * wages\n",
    "    return net_pay\n",
    "    if hours > 40:\n",
    "        ot_rate = 1.5 * wages\n",
    "        ot = (hours - 40) * ot_rate\n",
    "        hours = 40\n",
    "    else:\n",
    "        overtime = 0\n",
    "        \n",
    "assert pay_check(40, 10)== 400\n",
    "print(pay_check(40, 50))"
   ]
  },
  {
   "cell_type": "code",
   "execution_count": null,
   "metadata": {
    "collapsed": false
   },
   "outputs": [],
   "source": [
    "#Specific info to input into Tool\n",
    "a = 15\n",
    "b = 25\n",
    "print(pay_check(a, 25))\n",
    "\n",
    "\n"
   ]
  },
  {
   "cell_type": "code",
   "execution_count": 37,
   "metadata": {
    "collapsed": false
   },
   "outputs": [
    {
     "name": "stdout",
     "output_type": "stream",
     "text": [
      "75.0\n"
     ]
    }
   ],
   "source": [
    "hours = 45\n",
    "wages = 10\n",
    "\n",
    "if hours > 40:\n",
    "    ot_rate = 1.5 * wages\n",
    "    ot = (hours - 40) * ot_rate\n",
    "else:\n",
    "    overtime = 0\n",
    "print(ot)"
   ]
  },
  {
   "cell_type": "code",
   "execution_count": 31,
   "metadata": {
    "collapsed": false
   },
   "outputs": [
    {
     "name": "stdout",
     "output_type": "stream",
     "text": [
      "112.5\n"
     ]
    }
   ],
   "source": [
    "a = 40\n",
    "b = 1.5\n",
    "c = 15\n",
    "d = 40\n",
    "\n",
    "\n",
    "if hours > a:\n",
    "    ot_rate = b * c\n",
    "    ot = (hours - d) * ot_rate\n",
    "else:\n",
    "    overtime = 0\n",
    "print(ot)\n"
   ]
  },
  {
   "cell_type": "code",
   "execution_count": null,
   "metadata": {
    "collapsed": true
   },
   "outputs": [],
   "source": [
    "\n",
    "\n",
    "def net_inc_ot(hours, wages):\n",
    "    \"\"\"Calculates net pay w/ OT\"\"\"\n",
    "    net_pay = hours * wages\n",
    "    return net_pay\n",
    "    if hours > a:\n",
    "        ot_rate = b * c\n",
    "        ot = (hours - d) * ot_rate\n",
    "    else:\n",
    "    overtime = 0\n",
    "def net_reg(total_hours, reg_rate):\n",
    "    \"\"\"Calculates net pay w/o OT\"\"\"\n",
    "    net_pay = hours * wages\n",
    "    return net_pay\n",
    "\n",
    "def net(hours, wages):\n",
    "    hours = 8\n",
    "    if hours"
   ]
  }
 ],
 "metadata": {
  "kernelspec": {
   "display_name": "Python 3",
   "language": "python",
   "name": "python3"
  },
  "language_info": {
   "codemirror_mode": {
    "name": "ipython",
    "version": 3
   },
   "file_extension": ".py",
   "mimetype": "text/x-python",
   "name": "python",
   "nbconvert_exporter": "python",
   "pygments_lexer": "ipython3",
   "version": "3.4.3"
  }
 },
 "nbformat": 4,
 "nbformat_minor": 0
}
